{
 "cells": [
  {
   "cell_type": "markdown",
   "metadata": {},
   "source": [
    "## José Paulo de Almeida Diniz - 1510910\n",
    "## Lucas H. G. C. França - 1811457"
   ]
  },
  {
   "cell_type": "markdown",
   "metadata": {},
   "source": [
    "## Enunciado do Trabalho"
   ]
  },
  {
   "cell_type": "markdown",
   "metadata": {},
   "source": [
    "Vocês devem encontrar um bom modelo preditivo, variando:\n",
    "* o número e conjunto de features (atributos) utilizados\n",
    "* o método utilizado\n",
    "* a configuração do algoritmo correspondente (e.g.: número k para nearest neighbors, profundidade para árvore de decisão)\n",
    "\n",
    "Vocês devem listar algumas métricas de qualidade, tais como: precision, recall, accuracy e f1_score, e utilizar accuracy como base para a avaliação final, considerando a accuracy média de 10 iterações para cada configuração."
   ]
  },
  {
   "cell_type": "code",
   "execution_count": 1,
   "metadata": {},
   "outputs": [],
   "source": [
    "import pandas as pd\n",
    "import numpy as np\n",
    "import matplotlib.pyplot as plt\n",
    "import seaborn as sns\n",
    "import random\n",
    "\n",
    "random.seed(1001001)\n",
    "%matplotlib inline \n",
    "plt.style.use('seaborn-whitegrid')\n",
    "plt.rc('font', family='Arial')\n",
    "plt.rc('xtick', labelsize=12) \n",
    "plt.rc('ytick', labelsize=12) \n",
    "plt.rc('font', size=12) \n",
    "plt.rc('figure', figsize = (12, 5))"
   ]
  },
  {
   "cell_type": "markdown",
   "metadata": {},
   "source": [
    "## Parkinsons Data Set\n",
    "\n",
    "Usando os dados da UC Irvine, podemos começar a implementar modelos de classificação. O primeiro passo, como sempre, é importar os dados e transformá-los num Pandas DataFrame."
   ]
  },
  {
   "cell_type": "code",
   "execution_count": 2,
   "metadata": {},
   "outputs": [],
   "source": [
    "# Data source description: \n",
    "# https://archive.ics.uci.edu/ml/datasets/Parkinsons\n",
    "\n",
    "#url = 'https://archive.ics.uci.edu/ml/machine-learning-databases/parkinsons/parkinsons.data'\n",
    "# comment the next line if Internet access is available\n",
    "url = 'in.data/parkinsons.data'"
   ]
  },
  {
   "cell_type": "code",
   "execution_count": 3,
   "metadata": {},
   "outputs": [
    {
     "name": "stdout",
     "output_type": "stream",
     "text": [
      "<class 'pandas.core.frame.DataFrame'>\n",
      "RangeIndex: 195 entries, 0 to 194\n",
      "Data columns (total 24 columns):\n",
      "name                195 non-null object\n",
      "MDVP:Fo(Hz)         195 non-null float64\n",
      "MDVP:Fhi(Hz)        195 non-null float64\n",
      "MDVP:Flo(Hz)        195 non-null float64\n",
      "MDVP:Jitter(%)      195 non-null float64\n",
      "MDVP:Jitter(Abs)    195 non-null float64\n",
      "MDVP:RAP            195 non-null float64\n",
      "MDVP:PPQ            195 non-null float64\n",
      "Jitter:DDP          195 non-null float64\n",
      "MDVP:Shimmer        195 non-null float64\n",
      "MDVP:Shimmer(dB)    195 non-null float64\n",
      "Shimmer:APQ3        195 non-null float64\n",
      "Shimmer:APQ5        195 non-null float64\n",
      "MDVP:APQ            195 non-null float64\n",
      "Shimmer:DDA         195 non-null float64\n",
      "NHR                 195 non-null float64\n",
      "HNR                 195 non-null float64\n",
      "status              195 non-null int64\n",
      "RPDE                195 non-null float64\n",
      "DFA                 195 non-null float64\n",
      "spread1             195 non-null float64\n",
      "spread2             195 non-null float64\n",
      "D2                  195 non-null float64\n",
      "PPE                 195 non-null float64\n",
      "dtypes: float64(22), int64(1), object(1)\n",
      "memory usage: 36.6+ KB\n"
     ]
    }
   ],
   "source": [
    "dfParkinson = pd.read_csv(url)\n",
    "dfParkinson.info()"
   ]
  },
  {
   "cell_type": "code",
   "execution_count": 4,
   "metadata": {},
   "outputs": [
    {
     "data": {
      "text/plain": [
       "{0: 'healthy', 1: 'Parkinson`s'}"
      ]
     },
     "execution_count": 4,
     "metadata": {},
     "output_type": "execute_result"
    }
   ],
   "source": [
    "outcome_column = 'status'\n",
    "# status: 0: healthy, 1: Parkinson's\n",
    "outcome_labels = {0: 'healthy', 1:'Parkinson`s'}\n",
    "outcome_labels"
   ]
  },
  {
   "cell_type": "code",
   "execution_count": 5,
   "metadata": {},
   "outputs": [
    {
     "name": "stdout",
     "output_type": "stream",
     "text": [
      "[ 48 147]\n"
     ]
    }
   ],
   "source": [
    "label_counts = np.bincount(dfParkinson.status)\n",
    "print(label_counts)"
   ]
  },
  {
   "cell_type": "code",
   "execution_count": 6,
   "metadata": {},
   "outputs": [
    {
     "name": "stdout",
     "output_type": "stream",
     "text": [
      "range(0, 2) [48, 147]\n"
     ]
    }
   ],
   "source": [
    "x = range(len(outcome_labels))\n",
    "y = list(label_counts)\n",
    "print(x,y)"
   ]
  },
  {
   "cell_type": "code",
   "execution_count": 7,
   "metadata": {},
   "outputs": [
    {
     "data": {
      "image/png": "[encoded data removed]",
      "text/plain": [
       "<Figure size 1080x288 with 1 Axes>"
      ]
     },
     "metadata": {
      "needs_background": "light"
     },
     "output_type": "display_data"
    }
   ],
   "source": [
    "fig = plt.figure(figsize=(15,4))\n",
    "plt.barh(x, y, height=0.7)\n",
    "plt.yticks(x, outcome_labels.values())\n",
    "fig.suptitle('Number of people per outcome')\n",
    "plt.show()"
   ]
  },
  {
   "cell_type": "markdown",
   "metadata": {},
   "source": [
    "## Selecionando as features\n",
    "Inicialmente, utilizaremos todas as features do dataset"
   ]
  },
  {
   "cell_type": "code",
   "execution_count": 8,
   "metadata": {},
   "outputs": [
    {
     "data": {
      "text/plain": [
       "['MDVP:Fo(Hz)',\n",
       " 'MDVP:Fhi(Hz)',\n",
       " 'MDVP:Flo(Hz)',\n",
       " 'MDVP:Jitter(%)',\n",
       " 'MDVP:Jitter(Abs)',\n",
       " 'MDVP:RAP',\n",
       " 'MDVP:PPQ',\n",
       " 'Jitter:DDP',\n",
       " 'MDVP:Shimmer',\n",
       " 'MDVP:Shimmer(dB)',\n",
       " 'Shimmer:APQ3',\n",
       " 'Shimmer:APQ5',\n",
       " 'MDVP:APQ',\n",
       " 'Shimmer:DDA',\n",
       " 'NHR',\n",
       " 'HNR',\n",
       " 'RPDE',\n",
       " 'DFA',\n",
       " 'spread1',\n",
       " 'spread2',\n",
       " 'D2',\n",
       " 'PPE']"
      ]
     },
     "execution_count": 8,
     "metadata": {},
     "output_type": "execute_result"
    }
   ],
   "source": [
    "features = [col for col in dfParkinson.columns if col not in ['name', 'status']]\n",
    "features"
   ]
  },
  {
   "cell_type": "code",
   "execution_count": 9,
   "metadata": {},
   "outputs": [
    {
     "name": "stdout",
     "output_type": "stream",
     "text": [
      "[ 1.199920e+02  1.573020e+02  7.499700e+01  7.840000e-03  7.000000e-05\n",
      "  3.700000e-03  5.540000e-03  1.109000e-02  4.374000e-02  4.260000e-01\n",
      "  2.182000e-02  3.130000e-02  2.971000e-02  6.545000e-02  2.211000e-02\n",
      "  2.103300e+01  4.147830e-01  8.152850e-01 -4.813031e+00  2.664820e-01\n",
      "  2.301442e+00  2.846540e-01]\n",
      "1\n"
     ]
    }
   ],
   "source": [
    "# convert feature dataframe and label series to arrays\n",
    "X = np.array(dfParkinson[features])\n",
    "print(X[0, :])\n",
    "\n",
    "Y = np.array(dfParkinson[outcome_column])\n",
    "print(Y[0])"
   ]
  },
  {
   "cell_type": "code",
   "execution_count": 10,
   "metadata": {},
   "outputs": [],
   "source": [
    "from sklearn import neighbors\n",
    "from sklearn import datasets\n",
    "from sklearn import metrics\n",
    "from sklearn import tree\n",
    "from sklearn import svm\n",
    "from sklearn.model_selection import train_test_split\n",
    "from statistics import mean"
   ]
  },
  {
   "cell_type": "code",
   "execution_count": 11,
   "metadata": {},
   "outputs": [
    {
     "data": {
      "text/plain": [
       "Text(0, 0.5, 'Accuracy')"
      ]
     },
     "execution_count": 11,
     "metadata": {},
     "output_type": "execute_result"
    },
    {
     "data": {
      "image/png": "[encoded data removed]",
      "text/plain": [
       "<Figure size 1728x432 with 1 Axes>"
      ]
     },
     "metadata": {
      "needs_background": "light"
     },
     "output_type": "display_data"
    }
   ],
   "source": [
    "# run n times, generating 5 models each time\n",
    "n = 10\n",
    "acc_r=np.zeros((n,7))\n",
    "\n",
    "# n iterations\n",
    "for i in range(n):\n",
    "    # separando dados de treino e de teste (20% de teste)\n",
    "    X_train, X_test, Y_train, Y_test = train_test_split(X, Y, test_size=0.2, stratify=dfParkinson[outcome_column])\n",
    "\n",
    "    # configure 4 types of models\n",
    "    nn1 = neighbors.KNeighborsClassifier(n_neighbors=1) # KNN com 1 vizinho\n",
    "    nn3 = neighbors.KNeighborsClassifier(n_neighbors=3) # KNN com 3 vizinhos\n",
    "    nn5 = neighbors.KNeighborsClassifier(n_neighbors=5) # KNN com 5 vizinhos\n",
    "    svc = svm.SVC(gamma='auto') # SVM\n",
    "    dt5 = tree.DecisionTreeClassifier(max_depth=5) # Decision Tree com 5 níveis de profundidade\n",
    "    dt7 = tree.DecisionTreeClassifier(max_depth=7) # Decision Tree com 7 níveis de profundidade\n",
    "    dt9 = tree.DecisionTreeClassifier(max_depth=9) # Decision Tree com 9 níveis de profundidade\n",
    "    \n",
    "    # train each model\n",
    "    nn1.fit(X_train,Y_train)\n",
    "    nn3.fit(X_train,Y_train)\n",
    "    nn5.fit(X_train,Y_train)\n",
    "    svc.fit(X_train,Y_train)\n",
    "    dt5.fit(X_train,Y_train)\n",
    "    dt7.fit(X_train,Y_train)\n",
    "    dt9.fit(X_train,Y_train)\n",
    "    \n",
    "    # test each model\n",
    "    Yhat_nn1=nn1.predict(X_test)\n",
    "    Yhat_nn3=nn3.predict(X_test)\n",
    "    Yhat_nn5=nn5.predict(X_test)\n",
    "    Yhat_svc=svc.predict(X_test)\n",
    "    Yhat_dt5=dt5.predict(X_test)\n",
    "    Yhat_dt7=dt7.predict(X_test)\n",
    "    Yhat_dt9=dt9.predict(X_test)\n",
    "    \n",
    "    # accuracy of each model at this iteration\n",
    "    acc_r[i][0] = metrics.accuracy_score(Y_test, Yhat_nn1)\n",
    "    acc_r[i][1] = metrics.accuracy_score(Y_test, Yhat_nn3)\n",
    "    acc_r[i][2] = metrics.accuracy_score(Y_test, Yhat_nn5)\n",
    "    acc_r[i][3] = metrics.accuracy_score(Y_test, Yhat_svc)\n",
    "    acc_r[i][4] = metrics.accuracy_score(Y_test, Yhat_dt5)\n",
    "    acc_r[i][5] = metrics.accuracy_score(Y_test, Yhat_dt7)\n",
    "    acc_r[i][6] = metrics.accuracy_score(Y_test, Yhat_dt9)\n",
    "    \n",
    "plt.figure(figsize=(24,6))\n",
    "plt.boxplot(acc_r)\n",
    "for i in range(7):\n",
    "    xderiv = (i+1) * np.ones(acc_r[:,i].shape) + (np.random.rand(n,)-0.5) * 0.1\n",
    "    plt.plot(xderiv, acc_r[:,i], 'ro', alpha=0.3)\n",
    "    \n",
    "ax = plt.gca()\n",
    "ax.set_xticklabels(['1-NN', '3-NN', '5-NN', 'SVM', 'Decision Tree 5', 'Decision Tree 7', 'Decision Tree 9'])\n",
    "plt.ylabel('Accuracy')"
   ]
  },
  {
   "cell_type": "code",
   "execution_count": 12,
   "metadata": {},
   "outputs": [
    {
     "name": "stdout",
     "output_type": "stream",
     "text": [
      "0.8333333333333334\n",
      "0.8358974358974359\n",
      "0.8282051282051281\n",
      "0.7794871794871795\n",
      "0.8641025641025641\n",
      "0.8692307692307693\n",
      "0.8641025641025641\n",
      "Decision Tree 7\n"
     ]
    }
   ],
   "source": [
    "best_models = {}\n",
    "labels = ['1-NN', '3-NN', '5-NN', 'SVM', 'Decision Tree 5', 'Decision Tree 7', 'Decision Tree 9']\n",
    "\n",
    "best_av_acc = 0\n",
    "best_av_acc_index = 0\n",
    "\n",
    "for i in range(7):\n",
    "    average_accuracy = mean(acc_r[:,i])\n",
    "    print(average_accuracy)\n",
    "    if average_accuracy > best_av_acc:\n",
    "        best_av_acc = average_accuracy\n",
    "        best_av_acc_index = i\n",
    "                \n",
    "print(labels[best_av_acc_index])\n",
    "best_models[\"all\"] = [labels[best_av_acc_index], best_av_acc]"
   ]
  },
  {
   "cell_type": "code",
   "execution_count": 13,
   "metadata": {},
   "outputs": [
    {
     "name": "stdout",
     "output_type": "stream",
     "text": [
      "              precision    recall  f1-score   support\n",
      "\n",
      "     healthy       1.00      0.70      0.82        10\n",
      " Parkinson`s       0.91      1.00      0.95        29\n",
      "\n",
      "   micro avg       0.92      0.92      0.92        39\n",
      "   macro avg       0.95      0.85      0.89        39\n",
      "weighted avg       0.93      0.92      0.92        39\n",
      "\n"
     ]
    }
   ],
   "source": [
    "print(metrics.classification_report(Y_test, Yhat_dt5, target_names=outcome_labels.values()))"
   ]
  },
  {
   "cell_type": "markdown",
   "metadata": {},
   "source": [
    "## Selecionando features filtradas\n",
    "Features selecionadas após filtragem, como descrito na sessão III do artigo Suitability of dysphonia measurements for telemonitoring of Parkinson's disease"
   ]
  },
  {
   "cell_type": "code",
   "execution_count": 14,
   "metadata": {},
   "outputs": [
    {
     "data": {
      "text/plain": [
       "['MDVP:Jitter(Abs)',\n",
       " 'Jitter:DDP',\n",
       " 'MDVP:APQ',\n",
       " 'Shimmer:DDA',\n",
       " 'NHR',\n",
       " 'HNR',\n",
       " 'RPDE',\n",
       " 'DFA',\n",
       " 'D2',\n",
       " 'PPE']"
      ]
     },
     "execution_count": 14,
     "metadata": {},
     "output_type": "execute_result"
    }
   ],
   "source": [
    "features = ['MDVP:Jitter(Abs)', 'Jitter:DDP', 'MDVP:APQ', 'Shimmer:DDA', 'NHR', 'HNR', 'RPDE', 'DFA', 'D2', 'PPE']\n",
    "features"
   ]
  },
  {
   "cell_type": "code",
   "execution_count": 15,
   "metadata": {},
   "outputs": [
    {
     "name": "stdout",
     "output_type": "stream",
     "text": [
      "[7.000000e-05 1.109000e-02 2.971000e-02 6.545000e-02 2.211000e-02\n",
      " 2.103300e+01 4.147830e-01 8.152850e-01 2.301442e+00 2.846540e-01]\n",
      "1\n"
     ]
    }
   ],
   "source": [
    "# convert feature dataframe and label series to arrays\n",
    "X = np.array(dfParkinson[features])\n",
    "print(X[0, :])\n",
    "\n",
    "Y = np.array(dfParkinson[outcome_column])\n",
    "print(Y[0])"
   ]
  },
  {
   "cell_type": "code",
   "execution_count": 16,
   "metadata": {},
   "outputs": [
    {
     "data": {
      "text/plain": [
       "Text(0, 0.5, 'Accuracy')"
      ]
     },
     "execution_count": 16,
     "metadata": {},
     "output_type": "execute_result"
    },
    {
     "data": {
      "image/png": "[encoded data removed]",
      "text/plain": [
       "<Figure size 1728x432 with 1 Axes>"
      ]
     },
     "metadata": {
      "needs_background": "light"
     },
     "output_type": "display_data"
    }
   ],
   "source": [
    "# run n times, generating 5 models each time\n",
    "n = 10\n",
    "acc_r=np.zeros((n,7))\n",
    "\n",
    "# n iterations\n",
    "for i in range(n):\n",
    "    # separando dados de treino e de teste (20% de teste)\n",
    "    X_train, X_test, Y_train, Y_test = train_test_split(X, Y, test_size=0.2, stratify=dfParkinson[outcome_column])\n",
    "\n",
    "    # configure 4 types of models\n",
    "    nn1 = neighbors.KNeighborsClassifier(n_neighbors=1) # KNN com 1 vizinho\n",
    "    nn3 = neighbors.KNeighborsClassifier(n_neighbors=3) # KNN com 3 vizinhos\n",
    "    nn5 = neighbors.KNeighborsClassifier(n_neighbors=5) # KNN com 5 vizinhos\n",
    "    svc = svm.SVC(gamma='auto') # SVM\n",
    "    dt5 = tree.DecisionTreeClassifier(max_depth=5) # Decision Tree com 5 níveis de profundidade\n",
    "    dt7 = tree.DecisionTreeClassifier(max_depth=7) # Decision Tree com 7 níveis de profundidade\n",
    "    dt9 = tree.DecisionTreeClassifier(max_depth=9) # Decision Tree com 9 níveis de profundidade\n",
    "    \n",
    "    # train each model\n",
    "    nn1.fit(X_train,Y_train)\n",
    "    nn3.fit(X_train,Y_train)\n",
    "    nn5.fit(X_train,Y_train)\n",
    "    svc.fit(X_train,Y_train)\n",
    "    dt5.fit(X_train,Y_train)\n",
    "    dt7.fit(X_train,Y_train)\n",
    "    dt9.fit(X_train,Y_train)\n",
    "    \n",
    "    # test each model\n",
    "    Yhat_nn1=nn1.predict(X_test)\n",
    "    Yhat_nn3=nn3.predict(X_test)\n",
    "    Yhat_nn5=nn5.predict(X_test)\n",
    "    Yhat_svc=svc.predict(X_test)\n",
    "    Yhat_dt5=dt5.predict(X_test)\n",
    "    Yhat_dt7=dt7.predict(X_test)\n",
    "    Yhat_dt9=dt9.predict(X_test)\n",
    "    \n",
    "    # accuracy of each model at this iteration\n",
    "    acc_r[i][0] = metrics.accuracy_score(Y_test, Yhat_nn1)\n",
    "    acc_r[i][1] = metrics.accuracy_score(Y_test, Yhat_nn3)\n",
    "    acc_r[i][2] = metrics.accuracy_score(Y_test, Yhat_nn5)\n",
    "    acc_r[i][3] = metrics.accuracy_score(Y_test, Yhat_svc)\n",
    "    acc_r[i][4] = metrics.accuracy_score(Y_test, Yhat_dt5)\n",
    "    acc_r[i][5] = metrics.accuracy_score(Y_test, Yhat_dt7)\n",
    "    acc_r[i][6] = metrics.accuracy_score(Y_test, Yhat_dt9)\n",
    "    \n",
    "plt.figure(figsize=(24,6))\n",
    "plt.boxplot(acc_r)\n",
    "for i in range(7):\n",
    "    xderiv = (i+1) * np.ones(acc_r[:,i].shape) + (np.random.rand(n,)-0.5) * 0.1\n",
    "    plt.plot(xderiv, acc_r[:,i], 'ro', alpha=0.3)\n",
    "    \n",
    "ax = plt.gca()\n",
    "ax.set_xticklabels(['1-NN', '3-NN', '5-NN', 'SVM', 'Decision Tree 5', 'Decision Tree 7', 'Decision Tree 9'])\n",
    "plt.ylabel('Accuracy')"
   ]
  },
  {
   "cell_type": "code",
   "execution_count": 17,
   "metadata": {},
   "outputs": [
    {
     "name": "stdout",
     "output_type": "stream",
     "text": [
      "0.7615384615384615\n",
      "0.7384615384615385\n",
      "0.7461538461538462\n",
      "0.7564102564102564\n",
      "0.8333333333333334\n",
      "0.8282051282051281\n",
      "0.8256410256410256\n",
      "Decision Tree 5\n"
     ]
    }
   ],
   "source": [
    "best_av_acc = 0\n",
    "best_av_acc_index = 0\n",
    "\n",
    "for i in range(7):\n",
    "    average_accuracy = mean(acc_r[:,i])\n",
    "    print(average_accuracy)\n",
    "    if average_accuracy > best_av_acc:\n",
    "        best_av_acc = average_accuracy\n",
    "        best_av_acc_index = i\n",
    "                \n",
    "print(labels[best_av_acc_index])\n",
    "best_models[\"filtered\"] = [labels[best_av_acc_index], best_av_acc]"
   ]
  },
  {
   "cell_type": "code",
   "execution_count": 18,
   "metadata": {},
   "outputs": [
    {
     "name": "stdout",
     "output_type": "stream",
     "text": [
      "              precision    recall  f1-score   support\n",
      "\n",
      "     healthy       0.70      0.70      0.70        10\n",
      " Parkinson`s       0.90      0.90      0.90        29\n",
      "\n",
      "   micro avg       0.85      0.85      0.85        39\n",
      "   macro avg       0.80      0.80      0.80        39\n",
      "weighted avg       0.85      0.85      0.85        39\n",
      "\n"
     ]
    }
   ],
   "source": [
    "print(metrics.classification_report(Y_test, Yhat_dt7, target_names=outcome_labels.values()))"
   ]
  },
  {
   "cell_type": "markdown",
   "metadata": {},
   "source": [
    "## Selecionando RDPE"
   ]
  },
  {
   "cell_type": "code",
   "execution_count": 19,
   "metadata": {},
   "outputs": [
    {
     "data": {
      "text/plain": [
       "['RPDE']"
      ]
     },
     "execution_count": 19,
     "metadata": {},
     "output_type": "execute_result"
    }
   ],
   "source": [
    "features = ['RPDE']\n",
    "features"
   ]
  },
  {
   "cell_type": "code",
   "execution_count": 20,
   "metadata": {},
   "outputs": [
    {
     "name": "stdout",
     "output_type": "stream",
     "text": [
      "[0.414783]\n",
      "1\n"
     ]
    }
   ],
   "source": [
    "# convert feature dataframe and label series to arrays\n",
    "X = np.array(dfParkinson[features])\n",
    "print(X[0, :])\n",
    "\n",
    "Y = np.array(dfParkinson[outcome_column])\n",
    "print(Y[0])"
   ]
  },
  {
   "cell_type": "code",
   "execution_count": 21,
   "metadata": {},
   "outputs": [
    {
     "data": {
      "text/plain": [
       "Text(0, 0.5, 'Accuracy')"
      ]
     },
     "execution_count": 21,
     "metadata": {},
     "output_type": "execute_result"
    },
    {
     "data": {
      "image/png": "[encoded data removed]",
      "text/plain": [
       "<Figure size 1728x432 with 1 Axes>"
      ]
     },
     "metadata": {
      "needs_background": "light"
     },
     "output_type": "display_data"
    }
   ],
   "source": [
    "# run n times, generating 5 models each time\n",
    "n = 10\n",
    "acc_r=np.zeros((n,7))\n",
    "\n",
    "# n iterations\n",
    "for i in range(n):\n",
    "    # separando dados de treino e de teste (20% de teste)\n",
    "    X_train, X_test, Y_train, Y_test = train_test_split(X, Y, test_size=0.2, stratify=dfParkinson[outcome_column])\n",
    "\n",
    "    # configure 4 types of models\n",
    "    nn1 = neighbors.KNeighborsClassifier(n_neighbors=1) # KNN com 1 vizinho\n",
    "    nn3 = neighbors.KNeighborsClassifier(n_neighbors=3) # KNN com 3 vizinhos\n",
    "    nn5 = neighbors.KNeighborsClassifier(n_neighbors=5) # KNN com 5 vizinhos\n",
    "    svc = svm.SVC(gamma='auto') # SVM\n",
    "    dt5 = tree.DecisionTreeClassifier(max_depth=5) # Decision Tree com 5 níveis de profundidade\n",
    "    dt7 = tree.DecisionTreeClassifier(max_depth=7) # Decision Tree com 7 níveis de profundidade\n",
    "    dt9 = tree.DecisionTreeClassifier(max_depth=9) # Decision Tree com 9 níveis de profundidade\n",
    "    \n",
    "    # train each model\n",
    "    nn1.fit(X_train,Y_train)\n",
    "    nn3.fit(X_train,Y_train)\n",
    "    nn5.fit(X_train,Y_train)\n",
    "    svc.fit(X_train,Y_train)\n",
    "    dt5.fit(X_train,Y_train)\n",
    "    dt7.fit(X_train,Y_train)\n",
    "    dt9.fit(X_train,Y_train)\n",
    "    \n",
    "    # test each model\n",
    "    Yhat_nn1=nn1.predict(X_test)\n",
    "    Yhat_nn3=nn3.predict(X_test)\n",
    "    Yhat_nn5=nn5.predict(X_test)\n",
    "    Yhat_svc=svc.predict(X_test)\n",
    "    Yhat_dt5=dt5.predict(X_test)\n",
    "    Yhat_dt7=dt7.predict(X_test)\n",
    "    Yhat_dt9=dt9.predict(X_test)\n",
    "    \n",
    "    # accuracy of each model at this iteration\n",
    "    acc_r[i][0] = metrics.accuracy_score(Y_test, Yhat_nn1)\n",
    "    acc_r[i][1] = metrics.accuracy_score(Y_test, Yhat_nn3)\n",
    "    acc_r[i][2] = metrics.accuracy_score(Y_test, Yhat_nn5)\n",
    "    acc_r[i][3] = metrics.accuracy_score(Y_test, Yhat_svc)\n",
    "    acc_r[i][4] = metrics.accuracy_score(Y_test, Yhat_dt5)\n",
    "    acc_r[i][5] = metrics.accuracy_score(Y_test, Yhat_dt7)\n",
    "    acc_r[i][6] = metrics.accuracy_score(Y_test, Yhat_dt9)\n",
    "    \n",
    "plt.figure(figsize=(24,6))\n",
    "plt.boxplot(acc_r)\n",
    "for i in range(7):\n",
    "    xderiv = (i+1) * np.ones(acc_r[:,i].shape) + (np.random.rand(n,)-0.5) * 0.1\n",
    "    plt.plot(xderiv, acc_r[:,i], 'ro', alpha=0.3)\n",
    "    \n",
    "ax = plt.gca()\n",
    "ax.set_xticklabels(['1-NN', '3-NN', '5-NN', 'SVM', 'Decision Tree 5', 'Decision Tree 7', 'Decision Tree 9'])\n",
    "plt.ylabel('Accuracy')"
   ]
  },
  {
   "cell_type": "code",
   "execution_count": 22,
   "metadata": {},
   "outputs": [
    {
     "name": "stdout",
     "output_type": "stream",
     "text": [
      "0.6666666666666666\n",
      "0.6717948717948719\n",
      "0.7307692307692308\n",
      "0.7435897435897436\n",
      "0.6666666666666666\n",
      "0.6743589743589744\n",
      "0.676923076923077\n",
      "SVM\n"
     ]
    }
   ],
   "source": [
    "best_av_acc = 0\n",
    "best_av_acc_index = 0\n",
    "\n",
    "for i in range(7):\n",
    "    average_accuracy = mean(acc_r[:,i])\n",
    "    print(average_accuracy)\n",
    "    if average_accuracy > best_av_acc:\n",
    "        best_av_acc = average_accuracy\n",
    "        best_av_acc_index = i\n",
    "                \n",
    "print(labels[best_av_acc_index])\n",
    "best_models[\"RDPE\"] = [labels[best_av_acc_index], best_av_acc]"
   ]
  },
  {
   "cell_type": "code",
   "execution_count": 23,
   "metadata": {},
   "outputs": [
    {
     "name": "stdout",
     "output_type": "stream",
     "text": [
      "              precision    recall  f1-score   support\n",
      "\n",
      "     healthy       0.00      0.00      0.00        10\n",
      " Parkinson`s       0.74      1.00      0.85        29\n",
      "\n",
      "   micro avg       0.74      0.74      0.74        39\n",
      "   macro avg       0.37      0.50      0.43        39\n",
      "weighted avg       0.55      0.74      0.63        39\n",
      "\n"
     ]
    },
    {
     "name": "stderr",
     "output_type": "stream",
     "text": [
      "C:\\Users\\jpald\\Anaconda3\\lib\\site-packages\\sklearn\\metrics\\classification.py:1143: UndefinedMetricWarning: Precision and F-score are ill-defined and being set to 0.0 in labels with no predicted samples.\n",
      "  'precision', 'predicted', average, warn_for)\n",
      "C:\\Users\\jpald\\Anaconda3\\lib\\site-packages\\sklearn\\metrics\\classification.py:1143: UndefinedMetricWarning: Precision and F-score are ill-defined and being set to 0.0 in labels with no predicted samples.\n",
      "  'precision', 'predicted', average, warn_for)\n",
      "C:\\Users\\jpald\\Anaconda3\\lib\\site-packages\\sklearn\\metrics\\classification.py:1143: UndefinedMetricWarning: Precision and F-score are ill-defined and being set to 0.0 in labels with no predicted samples.\n",
      "  'precision', 'predicted', average, warn_for)\n"
     ]
    }
   ],
   "source": [
    "print(metrics.classification_report(Y_test, Yhat_svc, target_names=outcome_labels.values()))"
   ]
  },
  {
   "cell_type": "markdown",
   "metadata": {},
   "source": [
    "## Selecionando RDPE, DFA e PPE"
   ]
  },
  {
   "cell_type": "code",
   "execution_count": 24,
   "metadata": {},
   "outputs": [
    {
     "data": {
      "text/plain": [
       "['RPDE', 'DFA', 'PPE']"
      ]
     },
     "execution_count": 24,
     "metadata": {},
     "output_type": "execute_result"
    }
   ],
   "source": [
    "features = ['RPDE', 'DFA', 'PPE']\n",
    "features"
   ]
  },
  {
   "cell_type": "code",
   "execution_count": 25,
   "metadata": {},
   "outputs": [
    {
     "name": "stdout",
     "output_type": "stream",
     "text": [
      "[0.414783 0.815285 0.284654]\n",
      "1\n"
     ]
    }
   ],
   "source": [
    "# convert feature dataframe and label series to arrays\n",
    "X = np.array(dfParkinson[features])\n",
    "print(X[0, :])\n",
    "\n",
    "Y = np.array(dfParkinson[outcome_column])\n",
    "print(Y[0])"
   ]
  },
  {
   "cell_type": "code",
   "execution_count": 26,
   "metadata": {},
   "outputs": [
    {
     "data": {
      "text/plain": [
       "Text(0, 0.5, 'Accuracy')"
      ]
     },
     "execution_count": 26,
     "metadata": {},
     "output_type": "execute_result"
    },
    {
     "data": {
      "image/png": "[encoded data removed]",
      "text/plain": [
       "<Figure size 1728x432 with 1 Axes>"
      ]
     },
     "metadata": {
      "needs_background": "light"
     },
     "output_type": "display_data"
    }
   ],
   "source": [
    "# run n times, generating 5 models each time\n",
    "n = 10\n",
    "acc_r=np.zeros((n,7))\n",
    "\n",
    "# n iterations\n",
    "for i in range(n):\n",
    "    # separando dados de treino e de teste (20% de teste)\n",
    "    X_train, X_test, Y_train, Y_test = train_test_split(X, Y, test_size=0.2, stratify=dfParkinson[outcome_column])\n",
    "\n",
    "    # configure 4 types of models\n",
    "    nn1 = neighbors.KNeighborsClassifier(n_neighbors=1) # KNN com 1 vizinho\n",
    "    nn3 = neighbors.KNeighborsClassifier(n_neighbors=3) # KNN com 3 vizinhos\n",
    "    nn5 = neighbors.KNeighborsClassifier(n_neighbors=5) # KNN com 5 vizinhos\n",
    "    svc = svm.SVC(gamma='auto') # SVM\n",
    "    dt5 = tree.DecisionTreeClassifier(max_depth=5) # Decision Tree com 5 níveis de profundidade\n",
    "    dt7 = tree.DecisionTreeClassifier(max_depth=7) # Decision Tree com 7 níveis de profundidade\n",
    "    dt9 = tree.DecisionTreeClassifier(max_depth=9) # Decision Tree com 9 níveis de profundidade\n",
    "    \n",
    "    # train each model\n",
    "    nn1.fit(X_train,Y_train)\n",
    "    nn3.fit(X_train,Y_train)\n",
    "    nn5.fit(X_train,Y_train)\n",
    "    svc.fit(X_train,Y_train)\n",
    "    dt5.fit(X_train,Y_train)\n",
    "    dt7.fit(X_train,Y_train)\n",
    "    dt9.fit(X_train,Y_train)\n",
    "    \n",
    "    # test each model\n",
    "    Yhat_nn1=nn1.predict(X_test)\n",
    "    Yhat_nn3=nn3.predict(X_test)\n",
    "    Yhat_nn5=nn5.predict(X_test)\n",
    "    Yhat_svc=svc.predict(X_test)\n",
    "    Yhat_dt5=dt5.predict(X_test)\n",
    "    Yhat_dt7=dt7.predict(X_test)\n",
    "    Yhat_dt9=dt9.predict(X_test)\n",
    "    \n",
    "    # accuracy of each model at this iteration\n",
    "    acc_r[i][0] = metrics.accuracy_score(Y_test, Yhat_nn1)\n",
    "    acc_r[i][1] = metrics.accuracy_score(Y_test, Yhat_nn3)\n",
    "    acc_r[i][2] = metrics.accuracy_score(Y_test, Yhat_nn5)\n",
    "    acc_r[i][3] = metrics.accuracy_score(Y_test, Yhat_svc)\n",
    "    acc_r[i][4] = metrics.accuracy_score(Y_test, Yhat_dt5)\n",
    "    acc_r[i][5] = metrics.accuracy_score(Y_test, Yhat_dt7)\n",
    "    acc_r[i][6] = metrics.accuracy_score(Y_test, Yhat_dt9)\n",
    "    \n",
    "plt.figure(figsize=(24,6))\n",
    "plt.boxplot(acc_r)\n",
    "for i in range(7):\n",
    "    xderiv = (i+1) * np.ones(acc_r[:,i].shape) + (np.random.rand(n,)-0.5) * 0.1\n",
    "    plt.plot(xderiv, acc_r[:,i], 'ro', alpha=0.3)\n",
    "    \n",
    "ax = plt.gca()\n",
    "ax.set_xticklabels(['1-NN', '3-NN', '5-NN', 'SVM', 'Decision Tree 5', 'Decision Tree 7', 'Decision Tree 9'])\n",
    "plt.ylabel('Accuracy')"
   ]
  },
  {
   "cell_type": "code",
   "execution_count": 27,
   "metadata": {},
   "outputs": [
    {
     "name": "stdout",
     "output_type": "stream",
     "text": [
      "0.8025641025641026\n",
      "0.8564102564102564\n",
      "0.8615384615384616\n",
      "0.7435897435897436\n",
      "0.8512820512820513\n",
      "0.858974358974359\n",
      "0.8564102564102564\n",
      "5-NN\n"
     ]
    }
   ],
   "source": [
    "best_av_acc = 0\n",
    "best_av_acc_index = 0\n",
    "\n",
    "for i in range(7):\n",
    "    average_accuracy = mean(acc_r[:,i])\n",
    "    print(average_accuracy)\n",
    "    if average_accuracy > best_av_acc:\n",
    "        best_av_acc = average_accuracy\n",
    "        best_av_acc_index = i\n",
    "                \n",
    "print(labels[best_av_acc_index])\n",
    "best_models[\"RDPE, DFA e PPE\"] = [labels[best_av_acc_index], best_av_acc]"
   ]
  },
  {
   "cell_type": "code",
   "execution_count": 28,
   "metadata": {},
   "outputs": [
    {
     "name": "stdout",
     "output_type": "stream",
     "text": [
      "              precision    recall  f1-score   support\n",
      "\n",
      "     healthy       0.88      0.70      0.78        10\n",
      " Parkinson`s       0.90      0.97      0.93        29\n",
      "\n",
      "   micro avg       0.90      0.90      0.90        39\n",
      "   macro avg       0.89      0.83      0.86        39\n",
      "weighted avg       0.90      0.90      0.89        39\n",
      "\n"
     ]
    }
   ],
   "source": [
    "print(metrics.classification_report(Y_test, Yhat_nn3, target_names=outcome_labels.values()))"
   ]
  },
  {
   "cell_type": "markdown",
   "metadata": {},
   "source": [
    "## Selecionando HNR, RPDE, DFA e PPE"
   ]
  },
  {
   "cell_type": "code",
   "execution_count": 29,
   "metadata": {},
   "outputs": [
    {
     "data": {
      "text/plain": [
       "['HNR', 'RPDE', 'DFA', 'PPE']"
      ]
     },
     "execution_count": 29,
     "metadata": {},
     "output_type": "execute_result"
    }
   ],
   "source": [
    "features = ['HNR', 'RPDE', 'DFA', 'PPE']\n",
    "features"
   ]
  },
  {
   "cell_type": "code",
   "execution_count": 30,
   "metadata": {},
   "outputs": [
    {
     "name": "stdout",
     "output_type": "stream",
     "text": [
      "[21.033     0.414783  0.815285  0.284654]\n",
      "1\n"
     ]
    }
   ],
   "source": [
    "# convert feature dataframe and label series to arrays\n",
    "X = np.array(dfParkinson[features])\n",
    "print(X[0, :])\n",
    "\n",
    "Y = np.array(dfParkinson[outcome_column])\n",
    "print(Y[0])"
   ]
  },
  {
   "cell_type": "code",
   "execution_count": 31,
   "metadata": {},
   "outputs": [
    {
     "data": {
      "text/plain": [
       "Text(0, 0.5, 'Accuracy')"
      ]
     },
     "execution_count": 31,
     "metadata": {},
     "output_type": "execute_result"
    },
    {
     "data": {
      "image/png": "[encoded data removed]",
      "text/plain": [
       "<Figure size 1728x432 with 1 Axes>"
      ]
     },
     "metadata": {
      "needs_background": "light"
     },
     "output_type": "display_data"
    }
   ],
   "source": [
    "# run n times, generating 5 models each time\n",
    "n = 10\n",
    "acc_r=np.zeros((n,7))\n",
    "\n",
    "# n iterations\n",
    "for i in range(n):\n",
    "    # separando dados de treino e de teste (20% de teste)\n",
    "    X_train, X_test, Y_train, Y_test = train_test_split(X, Y, test_size=0.2, stratify=dfParkinson[outcome_column])\n",
    "\n",
    "    # configure 4 types of models\n",
    "    nn1 = neighbors.KNeighborsClassifier(n_neighbors=1) # KNN com 1 vizinho\n",
    "    nn3 = neighbors.KNeighborsClassifier(n_neighbors=3) # KNN com 3 vizinhos\n",
    "    nn5 = neighbors.KNeighborsClassifier(n_neighbors=5) # KNN com 5 vizinhos\n",
    "    svc = svm.SVC(gamma='auto') # SVM\n",
    "    dt5 = tree.DecisionTreeClassifier(max_depth=5) # Decision Tree com 5 níveis de profundidade\n",
    "    dt7 = tree.DecisionTreeClassifier(max_depth=7) # Decision Tree com 7 níveis de profundidade\n",
    "    dt9 = tree.DecisionTreeClassifier(max_depth=9) # Decision Tree com 9 níveis de profundidade\n",
    "    \n",
    "    # train each model\n",
    "    nn1.fit(X_train,Y_train)\n",
    "    nn3.fit(X_train,Y_train)\n",
    "    nn5.fit(X_train,Y_train)\n",
    "    svc.fit(X_train,Y_train)\n",
    "    dt5.fit(X_train,Y_train)\n",
    "    dt7.fit(X_train,Y_train)\n",
    "    dt9.fit(X_train,Y_train)\n",
    "    \n",
    "    # test each model\n",
    "    Yhat_nn1=nn1.predict(X_test)\n",
    "    Yhat_nn3=nn3.predict(X_test)\n",
    "    Yhat_nn5=nn5.predict(X_test)\n",
    "    Yhat_svc=svc.predict(X_test)\n",
    "    Yhat_dt5=dt5.predict(X_test)\n",
    "    Yhat_dt7=dt7.predict(X_test)\n",
    "    Yhat_dt9=dt9.predict(X_test)\n",
    "    \n",
    "    # accuracy of each model at this iteration\n",
    "    acc_r[i][0] = metrics.accuracy_score(Y_test, Yhat_nn1)\n",
    "    acc_r[i][1] = metrics.accuracy_score(Y_test, Yhat_nn3)\n",
    "    acc_r[i][2] = metrics.accuracy_score(Y_test, Yhat_nn5)\n",
    "    acc_r[i][3] = metrics.accuracy_score(Y_test, Yhat_svc)\n",
    "    acc_r[i][4] = metrics.accuracy_score(Y_test, Yhat_dt5)\n",
    "    acc_r[i][5] = metrics.accuracy_score(Y_test, Yhat_dt7)\n",
    "    acc_r[i][6] = metrics.accuracy_score(Y_test, Yhat_dt9)\n",
    "    \n",
    "plt.figure(figsize=(24,6))\n",
    "plt.boxplot(acc_r)\n",
    "for i in range(7):\n",
    "    xderiv = (i+1) * np.ones(acc_r[:,i].shape) + (np.random.rand(n,)-0.5) * 0.1\n",
    "    plt.plot(xderiv, acc_r[:,i], 'ro', alpha=0.3)\n",
    "    \n",
    "ax = plt.gca()\n",
    "ax.set_xticklabels(['1-NN', '3-NN', '5-NN', 'SVM', 'Decision Tree 5', 'Decision Tree 7', 'Decision Tree 9'])\n",
    "plt.ylabel('Accuracy')"
   ]
  },
  {
   "cell_type": "code",
   "execution_count": 32,
   "metadata": {},
   "outputs": [
    {
     "name": "stdout",
     "output_type": "stream",
     "text": [
      "0.7692307692307693\n",
      "0.7615384615384615\n",
      "0.735897435897436\n",
      "0.7615384615384615\n",
      "0.8333333333333334\n",
      "0.8256410256410256\n",
      "0.8256410256410256\n",
      "Decision Tree 5\n"
     ]
    }
   ],
   "source": [
    "best_av_acc = 0\n",
    "best_av_acc_index = 0\n",
    "\n",
    "for i in range(7):\n",
    "    average_accuracy = mean(acc_r[:,i])\n",
    "    print(average_accuracy)\n",
    "    if average_accuracy > best_av_acc:\n",
    "        best_av_acc = average_accuracy\n",
    "        best_av_acc_index = i\n",
    "                \n",
    "print(labels[best_av_acc_index])\n",
    "best_models[\"HNR, RPDE, DFA e PPE\"] = [labels[best_av_acc_index], best_av_acc]"
   ]
  },
  {
   "cell_type": "code",
   "execution_count": 33,
   "metadata": {},
   "outputs": [
    {
     "name": "stdout",
     "output_type": "stream",
     "text": [
      "              precision    recall  f1-score   support\n",
      "\n",
      "     healthy       0.77      1.00      0.87        10\n",
      " Parkinson`s       1.00      0.90      0.95        29\n",
      "\n",
      "   micro avg       0.92      0.92      0.92        39\n",
      "   macro avg       0.88      0.95      0.91        39\n",
      "weighted avg       0.94      0.92      0.93        39\n",
      "\n"
     ]
    }
   ],
   "source": [
    "print(metrics.classification_report(Y_test, Yhat_dt7, target_names=outcome_labels.values()))"
   ]
  },
  {
   "cell_type": "code",
   "execution_count": 34,
   "metadata": {},
   "outputs": [
    {
     "name": "stdout",
     "output_type": "stream",
     "text": [
      "('all', ['Decision Tree 7', 0.8692307692307693])\n",
      "('filtered', ['Decision Tree 5', 0.8333333333333334])\n",
      "('RDPE', ['SVM', 0.7435897435897436])\n",
      "('RDPE, DFA e PPE', ['5-NN', 0.8615384615384616])\n",
      "('HNR, RPDE, DFA e PPE', ['Decision Tree 5', 0.8333333333333334])\n"
     ]
    }
   ],
   "source": [
    "for item in best_models.items():\n",
    "    print(item)"
   ]
  },
  {
   "cell_type": "code",
   "execution_count": null,
   "metadata": {},
   "outputs": [],
   "source": []
  }
 ],
 "metadata": {
  "kernelspec": {
   "display_name": "Python 3",
   "language": "python",
   "name": "python3"
  },
  "language_info": {
   "codemirror_mode": {
    "name": "ipython",
    "version": 3
   },
   "file_extension": ".py",
   "mimetype": "text/x-python",
   "name": "python",
   "nbconvert_exporter": "python",
   "pygments_lexer": "ipython3",
   "version": "3.7.1"
  }
 },
 "nbformat": 4,
 "nbformat_minor": 2
}
